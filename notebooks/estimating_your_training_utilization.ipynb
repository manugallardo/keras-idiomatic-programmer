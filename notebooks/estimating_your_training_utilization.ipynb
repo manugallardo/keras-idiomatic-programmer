{
 "cells": [
  {
   "cell_type": "code",
   "execution_count": 1,
   "metadata": {},
   "outputs": [],
   "source": [
    "# Copyright 2019 Google LLC\n",
    "# \n",
    "# Licensed under the Apache License, Version 2.0 (the \"License\");\n",
    "# you may not use this file except in compliance with the License.\n",
    "# You may obtain a copy of the License at\n",
    "#\n",
    "#     https://www.apache.org/licenses/LICENSE-2.0\n",
    "#\n",
    "# Unless required by applicable law or agreed to in writing, software\n",
    "# distributed under the License is distributed on an \"AS IS\" BASIS,\n",
    "# WITHOUT WARRANTIES OR CONDITIONS OF ANY KIND, either express or implied.\n",
    "# See the License for the specific language governing permissions and\n",
    "# limitations under the License."
   ]
  },
  {
   "cell_type": "markdown",
   "metadata": {},
   "source": [
    "<a target=\"_blank\" href=\"https://colab.research.google.com/github/GoogleCloudPlatform/keras-idiomatic-programmer/blob/master/notebooks/estimating_your_training_utilization.ipynb\">\n",
    "<img src=\"https://www.tensorflow.org/images/colab_logo_32px.png\" />Run in Google Colab</a>"
   ]
  },
  {
   "cell_type": "markdown",
   "metadata": {},
   "source": [
    "# Managing your CPU/GPU utilization during training with Warm-Up\n",
    "\n",
    "## Objective\n",
    "\n",
    "This notebook demonstrates a simple manner for you to estimate and control your CPU/GPU utilization during training. Currently training infrastructure does not do auto-scaling (unlike batch prediction). Instead, you sent your utilization strategy as part of starting your training job.\n",
    "\n",
    "If your training on the cloud, a poor utilization may result in an under or over utilization. In under utilization, you're leaving compute power (money) on the table. In over utilization, the training job may become bottleneck or excessively interrupted by other processes.\n",
    "\n",
    "Things you might consider when under utilizing. Do I scale up (larger instances) or do I scale out (distributed training). \n",
    "\n",
    "In this notebook, we will use short training runs (warm-start) combined with the psutil module to see what our utilization will be when we do a full training run. Since we are only interested in utilization, we don't care what the accuracy is --we can just use a defacto (best guess) on hyperparameters.\n",
    "\n",
    "In my experience, I find the sweetspot for utilization on a single instance is 70%. That leaves enough compute power from background processes pre-empting the training and if training headless, to be able to ssh in and monitor the system."
   ]
  },
  {
   "cell_type": "markdown",
   "metadata": {},
   "source": [
    "## Imports\n",
    "\n",
    "We will be using tensorflow and the psutil module. This notebook will work with both TF 1.X and TF 2.0."
   ]
  },
  {
   "cell_type": "code",
   "execution_count": 2,
   "metadata": {},
   "outputs": [],
   "source": [
    "import tensorflow\n",
    "import psutil"
   ]
  },
  {
   "cell_type": "markdown",
   "metadata": {},
   "source": [
    "## Get Dataset\n",
    "\n",
    "Let's use the MNIST dataset (for brevity) as if this is the dataset you will use it for training. We will draw from the dataset during the warm-start training in the same manner that we plan to do in the later full training. In this case, because the total data is small enough to fit it into memory, we load the whole dataset into memory as a multi-dimensional numpy array."
   ]
  },
  {
   "cell_type": "code",
   "execution_count": 3,
   "metadata": {},
   "outputs": [],
   "source": [
    "# Get the builtin MNIST dataset\n",
    "from tensorflow.keras.datasets import mnist\n",
    "import numpy as np\n",
    "(x_train, y_train), (x_test, y_test) = mnist.load_data()\n",
    "\n",
    "# Normalize the data\n",
    "x_train = (x_train / 255.0).astype(np.float32)"
   ]
  },
  {
   "cell_type": "markdown",
   "metadata": {},
   "source": [
    "## Make Model\n",
    "\n",
    "We will use the `create_model()` function to create simple DNN models. DNN models are sufficient for training a MNIST model. This model will make N layers (`n_layers`) of the same number of nodes (`n_nodes`)."
   ]
  },
  {
   "cell_type": "code",
   "execution_count": 4,
   "metadata": {},
   "outputs": [],
   "source": [
    "from tensorflow.keras.layers import Flatten, Dense\n",
    "from tensorflow.keras import Sequential\n",
    "\n",
    "def create_model(n_layers, n_nodes):\n",
    "    model = Sequential()\n",
    "    model.add(Flatten(input_shape=(28, 28)))\n",
    "    for _ in range(n_layers):\n",
    "        model.add(Dense(n_nodes, activation='relu'))\n",
    "    model.add(Dense(10, activation='softmax'))\n",
    "    model.compile(loss='sparse_categorical_crossentropy', optimizer='adam', metrics=['acc'])\n",
    "    return model"
   ]
  },
  {
   "cell_type": "markdown",
   "metadata": {},
   "source": [
    "## Do a warm start to view the CPU/GPU utilization\n",
    "\n",
    "### Small Model, 1 layer 128 nodes\n",
    "\n",
    "Okay, let's start. In our first test, we try a model with one hidden dense layer of 128 nodes.\n",
    "\n",
    "We then do a `psutil.cpu_percent(interval=None)`. By setting that parameter `interval=None`, we set a checkpoint (start point) for measuring our CPU/GPU utilization.\n",
    "\n",
    "We then train the model for a couple (`epochs=2`) of epochs. If your datasets are huge and drawn from storage, you might want to use just a sub-distribution from your data (i.e., a smaller amount of the dataset) by setting the `steps_per_epoch` parameter.\n",
    "\n",
    "Once the training finishes, we then issue a `psutil.cpu_percent(interval=None, percpu=True)`. This will report the CPU/GPU utilization on all CPUs/GPUs on the instance since the start interval checkpoint. We then do a `psutil.cpu_percent(interval=None)` to show the average utilization across all the CPUs/GPUs.\n"
   ]
  },
  {
   "cell_type": "code",
   "execution_count": 5,
   "metadata": {},
   "outputs": [
    {
     "name": "stdout",
     "output_type": "stream",
     "text": [
      "Metal device set to: Apple M1 Max\n",
      "\n",
      "systemMemory: 32.00 GB\n",
      "maxCacheSize: 10.67 GB\n",
      "\n",
      "Model: \"sequential\"\n",
      "_________________________________________________________________\n",
      "Layer (type)                 Output Shape              Param #   \n",
      "=================================================================\n",
      "flatten (Flatten)            (None, 784)               0         \n",
      "_________________________________________________________________\n",
      "dense (Dense)                (None, 128)               100480    \n",
      "_________________________________________________________________\n",
      "dense_1 (Dense)              (None, 10)                1290      \n",
      "=================================================================\n",
      "Total params: 101,770\n",
      "Trainable params: 101,770\n",
      "Non-trainable params: 0\n",
      "_________________________________________________________________\n"
     ]
    },
    {
     "name": "stderr",
     "output_type": "stream",
     "text": [
      "2021-12-01 15:40:24.992451: I tensorflow/core/common_runtime/pluggable_device/pluggable_device_factory.cc:305] Could not identify NUMA node of platform GPU ID 0, defaulting to 0. Your kernel may not have been built with NUMA support.\n",
      "2021-12-01 15:40:24.992596: I tensorflow/core/common_runtime/pluggable_device/pluggable_device_factory.cc:271] Created TensorFlow device (/job:localhost/replica:0/task:0/device:GPU:0 with 0 MB memory) -> physical PluggableDevice (device: 0, name: METAL, pci bus id: <undefined>)\n"
     ]
    },
    {
     "name": "stdout",
     "output_type": "stream",
     "text": [
      "Epoch 1/2\n",
      "   1/1875 [..............................] - ETA: 5:06 - loss: 2.4104 - acc: 0.0312"
     ]
    },
    {
     "name": "stderr",
     "output_type": "stream",
     "text": [
      "2021-12-01 15:40:25.203709: I tensorflow/compiler/mlir/mlir_graph_optimization_pass.cc:185] None of the MLIR Optimization Passes are enabled (registered 2)\n",
      "2021-12-01 15:40:25.203893: W tensorflow/core/platform/profile_utils/cpu_utils.cc:128] Failed to get CPU frequency: 0 Hz\n",
      "2021-12-01 15:40:25.293840: I tensorflow/core/grappler/optimizers/custom_graph_optimizer_registry.cc:112] Plugin optimizer for device_type GPU is enabled.\n"
     ]
    },
    {
     "name": "stdout",
     "output_type": "stream",
     "text": [
      "1875/1875 [==============================] - 7s 4ms/step - loss: 0.2581 - acc: 0.9270\n",
      "Epoch 2/2\n",
      "1875/1875 [==============================] - 7s 4ms/step - loss: 0.1128 - acc: 0.9664\n",
      "[76.5, 76.3, 28.7, 22.4, 16.0, 11.8, 7.4, 3.5, 2.2, 1.6] 36.2\n"
     ]
    }
   ],
   "source": [
    "model = create_model(1, 128)\n",
    "model.summary()\n",
    "\n",
    "import psutil\n",
    "set_interval = psutil.cpu_percent(interval=None)\n",
    "model.fit(x_train, y_train, epochs=2, verbose=1)\n",
    "print(psutil.cpu_percent(interval=None, percpu=True), psutil.cpu_percent(interval=None))"
   ]
  },
  {
   "cell_type": "markdown",
   "metadata": {},
   "source": [
    "### Larger Model, 2 layers 1024 nodes\n",
    "\n",
    "On our next example, we will make the model 16X more computationally expensive by having two hidden layers of 1024 nodes each."
   ]
  },
  {
   "cell_type": "code",
   "execution_count": 6,
   "metadata": {},
   "outputs": [
    {
     "name": "stdout",
     "output_type": "stream",
     "text": [
      "Model: \"sequential_1\"\n",
      "_________________________________________________________________\n",
      "Layer (type)                 Output Shape              Param #   \n",
      "=================================================================\n",
      "flatten_1 (Flatten)          (None, 784)               0         \n",
      "_________________________________________________________________\n",
      "dense_2 (Dense)              (None, 1024)              803840    \n",
      "_________________________________________________________________\n",
      "dense_3 (Dense)              (None, 1024)              1049600   \n",
      "_________________________________________________________________\n",
      "dense_4 (Dense)              (None, 10)                10250     \n",
      "=================================================================\n",
      "Total params: 1,863,690\n",
      "Trainable params: 1,863,690\n",
      "Non-trainable params: 0\n",
      "_________________________________________________________________\n",
      "Epoch 1/2\n",
      "  17/1875 [..............................] - ETA: 12s - loss: 1.1538 - acc: 0.6562"
     ]
    },
    {
     "name": "stderr",
     "output_type": "stream",
     "text": [
      "2021-12-01 15:40:51.277779: I tensorflow/core/grappler/optimizers/custom_graph_optimizer_registry.cc:112] Plugin optimizer for device_type GPU is enabled.\n"
     ]
    },
    {
     "name": "stdout",
     "output_type": "stream",
     "text": [
      "1875/1875 [==============================] - 10s 5ms/step - loss: 0.1798 - acc: 0.9453\n",
      "Epoch 2/2\n",
      "1875/1875 [==============================] - 10s 5ms/step - loss: 0.0797 - acc: 0.9751\n",
      "[79.4, 79.3, 38.7, 32.8, 24.0, 17.6, 9.2, 4.5, 2.9, 1.9] 34.1\n"
     ]
    }
   ],
   "source": [
    "model = create_model(2, 1024)\n",
    "model.summary()\n",
    "\n",
    "set_interval = psutil.cpu_percent(interval=None)\n",
    "model.fit(x_train, y_train, epochs=2, verbose=1, workers=2)\n",
    "print(psutil.cpu_percent(interval=None, percpu=True), psutil.cpu_percent(interval=None))"
   ]
  },
  {
   "cell_type": "markdown",
   "metadata": {},
   "source": [
    "### Even Larger Model, 4 layers 2048 nodes\n",
    "\n",
    "In our last example, we will make the model 128X more computationally expensive by having two hidden layers of 1024 nodes each."
   ]
  },
  {
   "cell_type": "code",
   "execution_count": 7,
   "metadata": {},
   "outputs": [
    {
     "name": "stdout",
     "output_type": "stream",
     "text": [
      "Model: \"sequential_2\"\n",
      "_________________________________________________________________\n",
      "Layer (type)                 Output Shape              Param #   \n",
      "=================================================================\n",
      "flatten_2 (Flatten)          (None, 784)               0         \n",
      "_________________________________________________________________\n",
      "dense_5 (Dense)              (None, 2048)              1607680   \n",
      "_________________________________________________________________\n",
      "dense_6 (Dense)              (None, 2048)              4196352   \n",
      "_________________________________________________________________\n",
      "dense_7 (Dense)              (None, 2048)              4196352   \n",
      "_________________________________________________________________\n",
      "dense_8 (Dense)              (None, 2048)              4196352   \n",
      "_________________________________________________________________\n",
      "dense_9 (Dense)              (None, 10)                20490     \n",
      "=================================================================\n",
      "Total params: 14,217,226\n",
      "Trainable params: 14,217,226\n",
      "Non-trainable params: 0\n",
      "_________________________________________________________________\n",
      "Epoch 1/2\n",
      "  11/1875 [..............................] - ETA: 20s - loss: 1.7987 - acc: 0.4460"
     ]
    },
    {
     "name": "stderr",
     "output_type": "stream",
     "text": [
      "2021-12-01 15:41:19.803532: I tensorflow/core/grappler/optimizers/custom_graph_optimizer_registry.cc:112] Plugin optimizer for device_type GPU is enabled.\n"
     ]
    },
    {
     "name": "stdout",
     "output_type": "stream",
     "text": [
      "1875/1875 [==============================] - 18s 10ms/step - loss: 0.2558 - acc: 0.9313\n",
      "Epoch 2/2\n",
      "1875/1875 [==============================] - 18s 9ms/step - loss: 0.1266 - acc: 0.9647\n",
      "[77.0, 76.7, 37.4, 30.2, 21.7, 14.5, 8.2, 3.8, 2.6, 1.8] 29.3\n"
     ]
    }
   ],
   "source": [
    "model = create_model(4, 2048)\n",
    "model.summary()\n",
    "\n",
    "set_interval = psutil.cpu_percent(interval=None)\n",
    "model.fit(x_train, y_train, epochs=2, verbose=1)\n",
    "print(psutil.cpu_percent(interval=None, percpu=True), psutil.cpu_percent(interval=None))"
   ]
  },
  {
   "cell_type": "code",
   "execution_count": null,
   "metadata": {},
   "outputs": [],
   "source": []
  }
 ],
 "metadata": {
  "kernelspec": {
   "display_name": "Python 3",
   "language": "python",
   "name": "python3"
  },
  "language_info": {
   "codemirror_mode": {
    "name": "ipython",
    "version": 3
   },
   "file_extension": ".py",
   "mimetype": "text/x-python",
   "name": "python",
   "nbconvert_exporter": "python",
   "pygments_lexer": "ipython3",
   "version": "3.9.7"
  }
 },
 "nbformat": 4,
 "nbformat_minor": 2
}
